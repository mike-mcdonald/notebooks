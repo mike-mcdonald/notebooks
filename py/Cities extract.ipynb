{
 "cells": [
  {
   "cell_type": "code",
   "execution_count": 1,
   "metadata": {},
   "outputs": [],
   "source": [
    "import geopandas as gpd"
   ]
  },
  {
   "cell_type": "code",
   "execution_count": 2,
   "metadata": {},
   "outputs": [],
   "source": [
    "cities = gpd.read_file('../.data/cities.geojson')"
   ]
  },
  {
   "cell_type": "code",
   "execution_count": 9,
   "metadata": {},
   "outputs": [
    {
     "data": {
      "text/html": [
       "<div>\n",
       "<style scoped>\n",
       "    .dataframe tbody tr th:only-of-type {\n",
       "        vertical-align: middle;\n",
       "    }\n",
       "\n",
       "    .dataframe tbody tr th {\n",
       "        vertical-align: top;\n",
       "    }\n",
       "\n",
       "    .dataframe thead th {\n",
       "        text-align: right;\n",
       "    }\n",
       "</style>\n",
       "<table border=\"1\" class=\"dataframe\">\n",
       "  <thead>\n",
       "    <tr style=\"text-align: right;\">\n",
       "      <th></th>\n",
       "      <th>OBJECTID</th>\n",
       "      <th>name</th>\n",
       "      <th>Shape_Length</th>\n",
       "      <th>Shape_Area</th>\n",
       "      <th>AREA</th>\n",
       "      <th>geometry</th>\n",
       "      <th>wkt</th>\n",
       "      <th>wkb</th>\n",
       "      <th>centroid</th>\n",
       "      <th>center_x</th>\n",
       "      <th>center_y</th>\n",
       "      <th>area</th>\n",
       "    </tr>\n",
       "  </thead>\n",
       "  <tbody>\n",
       "    <tr>\n",
       "      <th>0</th>\n",
       "      <td>1</td>\n",
       "      <td>Banks</td>\n",
       "      <td>14881.269797</td>\n",
       "      <td>3.944489e+06</td>\n",
       "      <td>2.077300e+07</td>\n",
       "      <td>POLYGON ((-13704572.452 5720068.367499997, -13...</td>\n",
       "      <td>POLYGON ((-123.1102689595495 45.62255519893792...</td>\n",
       "      <td>b'\\x01\\x03\\x00\\x00\\x00\\x03\\x00\\x00\\x00@\\x01\\x0...</td>\n",
       "      <td>POINT (-123.1071377462 45.61499097277397)</td>\n",
       "      <td>-123.107138</td>\n",
       "      <td>45.614991</td>\n",
       "      <td>3.944489e+06</td>\n",
       "    </tr>\n",
       "    <tr>\n",
       "      <th>1</th>\n",
       "      <td>2</td>\n",
       "      <td>Barlow</td>\n",
       "      <td>3500.496093</td>\n",
       "      <td>2.703219e+05</td>\n",
       "      <td>1.441810e+06</td>\n",
       "      <td>POLYGON ((-13661258.1241 5661613.883699996, -1...</td>\n",
       "      <td>POLYGON ((-122.7211697318101 45.25410287147206...</td>\n",
       "      <td>b'\\x01\\x03\\x00\\x00\\x00\\x01\\x00\\x00\\x005\\x00\\x0...</td>\n",
       "      <td>POINT (-122.7223182447679 45.252420129672)</td>\n",
       "      <td>-122.722318</td>\n",
       "      <td>45.252420</td>\n",
       "      <td>2.703219e+05</td>\n",
       "    </tr>\n",
       "    <tr>\n",
       "      <th>2</th>\n",
       "      <td>3</td>\n",
       "      <td>Battle Ground</td>\n",
       "      <td>58040.157950</td>\n",
       "      <td>4.544364e+07</td>\n",
       "      <td>2.379638e+08</td>\n",
       "      <td>POLYGON ((-13640769.1866 5748205.135099998, -1...</td>\n",
       "      <td>POLYGON ((-122.5371144746939 45.79905014392683...</td>\n",
       "      <td>b'\\x01\\x03\\x00\\x00\\x00\\x04\\x00\\x00\\x00\\xc1\\x02...</td>\n",
       "      <td>POINT (-122.5413482508011 45.77657838283852)</td>\n",
       "      <td>-122.541348</td>\n",
       "      <td>45.776578</td>\n",
       "      <td>4.544364e+07</td>\n",
       "    </tr>\n",
       "    <tr>\n",
       "      <th>3</th>\n",
       "      <td>4</td>\n",
       "      <td>Beaverton</td>\n",
       "      <td>216699.013641</td>\n",
       "      <td>1.034588e+08</td>\n",
       "      <td>5.474764e+08</td>\n",
       "      <td>(POLYGON ((-13677135.4986 5707074.883500002, -...</td>\n",
       "      <td>MULTIPOLYGON (((-122.8637986136605 45.54086217...</td>\n",
       "      <td>b'\\x01\\x06\\x00\\x00\\x00\\x02\\x00\\x00\\x00\\x01\\x03...</td>\n",
       "      <td>POINT (-122.8170001292135 45.47796439080044)</td>\n",
       "      <td>-122.817000</td>\n",
       "      <td>45.477964</td>\n",
       "      <td>1.034588e+08</td>\n",
       "    </tr>\n",
       "    <tr>\n",
       "      <th>4</th>\n",
       "      <td>5</td>\n",
       "      <td>Camas</td>\n",
       "      <td>89229.454759</td>\n",
       "      <td>8.320604e+07</td>\n",
       "      <td>4.384203e+08</td>\n",
       "      <td>(POLYGON ((-13632612.2932 5725461.494999995, -...</td>\n",
       "      <td>MULTIPOLYGON (((-122.4638398545724 45.65642812...</td>\n",
       "      <td>b'\\x01\\x06\\x00\\x00\\x00\\x04\\x00\\x00\\x00\\x01\\x03...</td>\n",
       "      <td>POINT (-122.4306391970177 45.60012788057428)</td>\n",
       "      <td>-122.430639</td>\n",
       "      <td>45.600128</td>\n",
       "      <td>8.320604e+07</td>\n",
       "    </tr>\n",
       "  </tbody>\n",
       "</table>\n",
       "</div>"
      ],
      "text/plain": [
       "   OBJECTID           name   Shape_Length    Shape_Area          AREA  \\\n",
       "0         1          Banks   14881.269797  3.944489e+06  2.077300e+07   \n",
       "1         2         Barlow    3500.496093  2.703219e+05  1.441810e+06   \n",
       "2         3  Battle Ground   58040.157950  4.544364e+07  2.379638e+08   \n",
       "3         4      Beaverton  216699.013641  1.034588e+08  5.474764e+08   \n",
       "4         5          Camas   89229.454759  8.320604e+07  4.384203e+08   \n",
       "\n",
       "                                            geometry  \\\n",
       "0  POLYGON ((-13704572.452 5720068.367499997, -13...   \n",
       "1  POLYGON ((-13661258.1241 5661613.883699996, -1...   \n",
       "2  POLYGON ((-13640769.1866 5748205.135099998, -1...   \n",
       "3  (POLYGON ((-13677135.4986 5707074.883500002, -...   \n",
       "4  (POLYGON ((-13632612.2932 5725461.494999995, -...   \n",
       "\n",
       "                                                 wkt  \\\n",
       "0  POLYGON ((-123.1102689595495 45.62255519893792...   \n",
       "1  POLYGON ((-122.7211697318101 45.25410287147206...   \n",
       "2  POLYGON ((-122.5371144746939 45.79905014392683...   \n",
       "3  MULTIPOLYGON (((-122.8637986136605 45.54086217...   \n",
       "4  MULTIPOLYGON (((-122.4638398545724 45.65642812...   \n",
       "\n",
       "                                                 wkb  \\\n",
       "0  b'\\x01\\x03\\x00\\x00\\x00\\x03\\x00\\x00\\x00@\\x01\\x0...   \n",
       "1  b'\\x01\\x03\\x00\\x00\\x00\\x01\\x00\\x00\\x005\\x00\\x0...   \n",
       "2  b'\\x01\\x03\\x00\\x00\\x00\\x04\\x00\\x00\\x00\\xc1\\x02...   \n",
       "3  b'\\x01\\x06\\x00\\x00\\x00\\x02\\x00\\x00\\x00\\x01\\x03...   \n",
       "4  b'\\x01\\x06\\x00\\x00\\x00\\x04\\x00\\x00\\x00\\x01\\x03...   \n",
       "\n",
       "                                       centroid    center_x   center_y  \\\n",
       "0     POINT (-123.1071377462 45.61499097277397) -123.107138  45.614991   \n",
       "1    POINT (-122.7223182447679 45.252420129672) -122.722318  45.252420   \n",
       "2  POINT (-122.5413482508011 45.77657838283852) -122.541348  45.776578   \n",
       "3  POINT (-122.8170001292135 45.47796439080044) -122.817000  45.477964   \n",
       "4  POINT (-122.4306391970177 45.60012788057428) -122.430639  45.600128   \n",
       "\n",
       "           area  \n",
       "0  3.944489e+06  \n",
       "1  2.703219e+05  \n",
       "2  4.544364e+07  \n",
       "3  1.034588e+08  \n",
       "4  8.320604e+07  "
      ]
     },
     "execution_count": 9,
     "metadata": {},
     "output_type": "execute_result"
    }
   ],
   "source": [
    "cities.head()"
   ]
  },
  {
   "cell_type": "code",
   "execution_count": 4,
   "metadata": {},
   "outputs": [],
   "source": [
    "cities = cities[['CITYNAME', 'geometry']]"
   ]
  },
  {
   "cell_type": "code",
   "execution_count": 6,
   "metadata": {},
   "outputs": [],
   "source": [
    "cities = cities.rename(index=str, columns={\n",
    "    'CITYNAME': 'name'\n",
    "})"
   ]
  },
  {
   "cell_type": "code",
   "execution_count": 7,
   "metadata": {},
   "outputs": [],
   "source": [
    "from shapely.wkt import dumps\n",
    "cities['wkt'] = cities.geometry.map(lambda x: x.wkt)\n",
    "cities['wkb'] = cities.geometry.map(lambda x: x.wkb)\n",
    "cities['centroid'] = cities.geometry.map(lambda x: x.centroid)\n",
    "cities['center_x'] = cities.centroid.map(lambda x: x.x)\n",
    "cities['center_y'] = cities.centroid.map(lambda x: x.y)"
   ]
  },
  {
   "cell_type": "code",
   "execution_count": 8,
   "metadata": {},
   "outputs": [],
   "source": [
    "cities = cities.to_crs(epsg=3857)\n",
    "cities['area'] = cities.geometry.map(lambda x: x.area)"
   ]
  },
  {
   "cell_type": "code",
   "execution_count": 10,
   "metadata": {},
   "outputs": [],
   "source": [
    "cities[['name', 'center_x', 'center_y', 'area', 'wkt']].to_csv('../.data/cities.csv', index_label='key')\n",
    "cities[['name', 'center_x', 'center_y', 'area']].to_csv('../.data/cities_dw.csv', index_label='key')"
   ]
  },
  {
   "cell_type": "code",
   "execution_count": 11,
   "metadata": {},
   "outputs": [
    {
     "data": {
      "text/plain": [
       "count        52.000000\n",
       "mean      84524.134615\n",
       "std      120567.464295\n",
       "min        2004.000000\n",
       "25%       11859.750000\n",
       "50%       35285.000000\n",
       "75%      108810.250000\n",
       "max      619024.000000\n",
       "Name: wkt, dtype: float64"
      ]
     },
     "execution_count": 11,
     "metadata": {},
     "output_type": "execute_result"
    }
   ],
   "source": [
    "cities.wkt.map(len).describe()"
   ]
  },
  {
   "cell_type": "code",
   "execution_count": 59,
   "metadata": {},
   "outputs": [],
   "source": [
    "cities = gpd.read_file('../.data/cities.csv')"
   ]
  },
  {
   "cell_type": "code",
   "execution_count": 90,
   "metadata": {},
   "outputs": [
    {
     "data": {
      "text/html": [
       "<div>\n",
       "<style scoped>\n",
       "    .dataframe tbody tr th:only-of-type {\n",
       "        vertical-align: middle;\n",
       "    }\n",
       "\n",
       "    .dataframe tbody tr th {\n",
       "        vertical-align: top;\n",
       "    }\n",
       "\n",
       "    .dataframe thead th {\n",
       "        text-align: right;\n",
       "    }\n",
       "</style>\n",
       "<table border=\"1\" class=\"dataframe\">\n",
       "  <thead>\n",
       "    <tr style=\"text-align: right;\">\n",
       "      <th></th>\n",
       "      <th>name</th>\n",
       "      <th>geometry</th>\n",
       "      <th>wkt</th>\n",
       "      <th>wkb</th>\n",
       "      <th>centroid</th>\n",
       "      <th>center_x</th>\n",
       "      <th>center_y</th>\n",
       "      <th>area</th>\n",
       "      <th>wkb_hex</th>\n",
       "      <th>geometry_wkb</th>\n",
       "    </tr>\n",
       "  </thead>\n",
       "  <tbody>\n",
       "    <tr>\n",
       "      <th>0</th>\n",
       "      <td>Eastern Neighborhoods</td>\n",
       "      <td>POLYGON ((-13641616.60870676 5709902.425143769...</td>\n",
       "      <td>POLYGON ((-122.5447269969999 45.55864970300007...</td>\n",
       "      <td>b'\\x01\\x03\\x00\\x00\\x00\\x03\\x00\\x00\\x002\\n\\x00\\...</td>\n",
       "      <td>POINT (-122.5357521315335 45.50965766582001)</td>\n",
       "      <td>-122.535752</td>\n",
       "      <td>45.509658</td>\n",
       "      <td>1.464485e+08</td>\n",
       "      <td>010300000003000000320a00003c579fcedca25ec01827...</td>\n",
       "      <td>POLYGON ((-122.5447269969999 45.55864970300007...</td>\n",
       "    </tr>\n",
       "    <tr>\n",
       "      <th>1</th>\n",
       "      <td>Industrial &amp; River</td>\n",
       "      <td>(POLYGON ((-13633883.98250882 5708334.17899362...</td>\n",
       "      <td>MULTIPOLYGON (((-122.475263634 45.548784862000...</td>\n",
       "      <td>b'\\x01\\x06\\x00\\x00\\x00\\r\\x00\\x00\\x00\\x01\\x03\\x...</td>\n",
       "      <td>POINT (-122.6614487791214 45.59366155058092)</td>\n",
       "      <td>-122.661449</td>\n",
       "      <td>45.593662</td>\n",
       "      <td>1.457254e+08</td>\n",
       "      <td>01060000000d0000000103000000010000000600000084...</td>\n",
       "      <td>(POLYGON ((-122.475263634 45.54878486200005, -...</td>\n",
       "    </tr>\n",
       "    <tr>\n",
       "      <th>2</th>\n",
       "      <td>Industrial &amp; River</td>\n",
       "      <td>POLYGON ((-13657934.46019959 5706930.380016834...</td>\n",
       "      <td>POLYGON ((-122.6913127509999 45.53995298500007...</td>\n",
       "      <td>b'\\x01\\x03\\x00\\x00\\x00\\x01\\x00\\x00\\x00f\\x10\\x0...</td>\n",
       "      <td>POINT (-122.7347521499582 45.56276281226399)</td>\n",
       "      <td>-122.734752</td>\n",
       "      <td>45.562763</td>\n",
       "      <td>1.645402e+07</td>\n",
       "      <td>010300000001000000661000009036d6773eac5ec0f8f9...</td>\n",
       "      <td>POLYGON ((-122.6913127509999 45.53995298500007...</td>\n",
       "    </tr>\n",
       "    <tr>\n",
       "      <th>3</th>\n",
       "      <td>Inner Neighborhoods</td>\n",
       "      <td>POLYGON ((-13655814.16253387 5707154.206264135...</td>\n",
       "      <td>POLYGON ((-122.672265793 45.54136126100008, -1...</td>\n",
       "      <td>b'\\x01\\x03\\x00\\x00\\x00\\x03\\x00\\x00\\x00\\xe4\\x06...</td>\n",
       "      <td>POINT (-122.6352696031823 45.52744832170374)</td>\n",
       "      <td>-122.635270</td>\n",
       "      <td>45.527448</td>\n",
       "      <td>2.101444e+08</td>\n",
       "      <td>010300000003000000e4060000e0c91a6706ab5ec088a8...</td>\n",
       "      <td>POLYGON ((-122.672265793 45.54136126100008, -1...</td>\n",
       "    </tr>\n",
       "    <tr>\n",
       "      <th>4</th>\n",
       "      <td>Central City</td>\n",
       "      <td>(POLYGON ((-13657652.06280027 5706898.33000708...</td>\n",
       "      <td>MULTIPOLYGON (((-122.6887759319999 45.53975132...</td>\n",
       "      <td>b'\\x01\\x06\\x00\\x00\\x00\\x02\\x00\\x00\\x00\\x01\\x03...</td>\n",
       "      <td>POINT (-122.6702667826905 45.52043505948163)</td>\n",
       "      <td>-122.670267</td>\n",
       "      <td>45.520435</td>\n",
       "      <td>2.212337e+07</td>\n",
       "      <td>010600000002000000010300000001000000e50300008c...</td>\n",
       "      <td>(POLYGON ((-122.6887759319999 45.5397513290000...</td>\n",
       "    </tr>\n",
       "  </tbody>\n",
       "</table>\n",
       "</div>"
      ],
      "text/plain": [
       "                    name                                           geometry  \\\n",
       "0  Eastern Neighborhoods  POLYGON ((-13641616.60870676 5709902.425143769...   \n",
       "1     Industrial & River  (POLYGON ((-13633883.98250882 5708334.17899362...   \n",
       "2     Industrial & River  POLYGON ((-13657934.46019959 5706930.380016834...   \n",
       "3    Inner Neighborhoods  POLYGON ((-13655814.16253387 5707154.206264135...   \n",
       "4           Central City  (POLYGON ((-13657652.06280027 5706898.33000708...   \n",
       "\n",
       "                                                 wkt  \\\n",
       "0  POLYGON ((-122.5447269969999 45.55864970300007...   \n",
       "1  MULTIPOLYGON (((-122.475263634 45.548784862000...   \n",
       "2  POLYGON ((-122.6913127509999 45.53995298500007...   \n",
       "3  POLYGON ((-122.672265793 45.54136126100008, -1...   \n",
       "4  MULTIPOLYGON (((-122.6887759319999 45.53975132...   \n",
       "\n",
       "                                                 wkb  \\\n",
       "0  b'\\x01\\x03\\x00\\x00\\x00\\x03\\x00\\x00\\x002\\n\\x00\\...   \n",
       "1  b'\\x01\\x06\\x00\\x00\\x00\\r\\x00\\x00\\x00\\x01\\x03\\x...   \n",
       "2  b'\\x01\\x03\\x00\\x00\\x00\\x01\\x00\\x00\\x00f\\x10\\x0...   \n",
       "3  b'\\x01\\x03\\x00\\x00\\x00\\x03\\x00\\x00\\x00\\xe4\\x06...   \n",
       "4  b'\\x01\\x06\\x00\\x00\\x00\\x02\\x00\\x00\\x00\\x01\\x03...   \n",
       "\n",
       "                                       centroid    center_x   center_y  \\\n",
       "0  POINT (-122.5357521315335 45.50965766582001) -122.535752  45.509658   \n",
       "1  POINT (-122.6614487791214 45.59366155058092) -122.661449  45.593662   \n",
       "2  POINT (-122.7347521499582 45.56276281226399) -122.734752  45.562763   \n",
       "3  POINT (-122.6352696031823 45.52744832170374) -122.635270  45.527448   \n",
       "4  POINT (-122.6702667826905 45.52043505948163) -122.670267  45.520435   \n",
       "\n",
       "           area                                            wkb_hex  \\\n",
       "0  1.464485e+08  010300000003000000320a00003c579fcedca25ec01827...   \n",
       "1  1.457254e+08  01060000000d0000000103000000010000000600000084...   \n",
       "2  1.645402e+07  010300000001000000661000009036d6773eac5ec0f8f9...   \n",
       "3  2.101444e+08  010300000003000000e4060000e0c91a6706ab5ec088a8...   \n",
       "4  2.212337e+07  010600000002000000010300000001000000e50300008c...   \n",
       "\n",
       "                                        geometry_wkb  \n",
       "0  POLYGON ((-122.5447269969999 45.55864970300007...  \n",
       "1  (POLYGON ((-122.475263634 45.54878486200005, -...  \n",
       "2  POLYGON ((-122.6913127509999 45.53995298500007...  \n",
       "3  POLYGON ((-122.672265793 45.54136126100008, -1...  \n",
       "4  (POLYGON ((-122.6887759319999 45.5397513290000...  "
      ]
     },
     "execution_count": 90,
     "metadata": {},
     "output_type": "execute_result"
    }
   ],
   "source": [
    "cities.head()"
   ]
  },
  {
   "cell_type": "code",
   "execution_count": 63,
   "metadata": {},
   "outputs": [],
   "source": [
    "from shapely.wkb import dumps, loads"
   ]
  },
  {
   "cell_type": "code",
   "execution_count": 89,
   "metadata": {},
   "outputs": [],
   "source": [
    "cities['geometry_wkb'] = cities.wkb.map(lambda x: loads(bytes(x)))"
   ]
  },
  {
   "cell_type": "code",
   "execution_count": 82,
   "metadata": {},
   "outputs": [],
   "source": [
    "cities['wkb_hex'] = cities.wkb.map(lambda x: x.hex())"
   ]
  },
  {
   "cell_type": "code",
   "execution_count": 88,
   "metadata": {},
   "outputs": [
    {
     "data": {
      "text/plain": [
       "count         9.000000\n",
       "mean     171950.222222\n",
       "std      296853.178818\n",
       "min        4826.000000\n",
       "25%       19130.000000\n",
       "50%       58378.000000\n",
       "75%      134362.000000\n",
       "max      935836.000000\n",
       "Name: wkb_hex, dtype: float64"
      ]
     },
     "execution_count": 88,
     "metadata": {},
     "output_type": "execute_result"
    }
   ],
   "source": [
    "cities.wkb_hex.map(len).describe()"
   ]
  },
  {
   "cell_type": "code",
   "execution_count": null,
   "metadata": {},
   "outputs": [],
   "source": []
  }
 ],
 "metadata": {
  "kernelspec": {
   "display_name": "Python 3",
   "language": "python",
   "name": "python3"
  },
  "language_info": {
   "codemirror_mode": {
    "name": "ipython",
    "version": 3
   },
   "file_extension": ".py",
   "mimetype": "text/x-python",
   "name": "python",
   "nbconvert_exporter": "python",
   "pygments_lexer": "ipython3",
   "version": "3.7.1"
  }
 },
 "nbformat": 4,
 "nbformat_minor": 2
}
