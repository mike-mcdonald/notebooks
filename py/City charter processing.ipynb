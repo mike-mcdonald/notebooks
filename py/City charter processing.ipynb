{
 "cells": [
  {
   "cell_type": "code",
   "execution_count": 147,
   "metadata": {},
   "outputs": [],
   "source": [
    "import re\n",
    "import pandas as pd\n",
    "import numpy as np\n",
    "from bs4 import BeautifulSoup\n",
    "from datetime import datetime\n",
    "from urllib import request, parse"
   ]
  },
  {
   "cell_type": "code",
   "execution_count": 129,
   "metadata": {},
   "outputs": [],
   "source": [
    "charter = pd.read_csv('../.data/city_charter_raw.csv')\n",
    "chapter_regex = re.compile('Chapter (\\d+) (.*)')\n",
    "article_regex = re.compile('Article (\\d+) (.*)')\n",
    "section_regex = re.compile('[Section\\s]*(\\d+)-(\\d+)[.]? (.*)')"
   ]
  },
  {
   "cell_type": "code",
   "execution_count": 136,
   "metadata": {},
   "outputs": [],
   "source": [
    "charter['article_match'] = charter.CATEGORY_NAME.map(lambda x: article_regex.match(x))\n",
    "charter['section_match'] = charter.CONTENT_NAME.map(lambda x: section_regex.match(x))\n",
    "charter['updated_date'] = charter.LAST_UPDATED_DATE.map(lambda x: datetime.strptime(x, '%Y-%m-%d %H:%M:%S %Z'))"
   ]
  },
  {
   "cell_type": "code",
   "execution_count": 137,
   "metadata": {},
   "outputs": [],
   "source": [
    "charter = charter[charter.article_match.notnull()].copy()\n",
    "charter = charter[charter.section_match.notnull()].copy()"
   ]
  },
  {
   "cell_type": "code",
   "execution_count": 171,
   "metadata": {},
   "outputs": [],
   "source": [
    "charter['article'] = charter.article_match.map(lambda x: x.group(1))\n",
    "charter['chapter'] = charter.section_match.map(lambda x: x.group(1))\n",
    "charter['number'] = charter.section_match.map(lambda x: x.group(2))\n",
    "charter['name'] = charter.section_match.map(lambda x: x.group(3))\n",
    "charter['title'] = charter.apply(lambda x: ' '.join(['Section', '-'.join([x.chapter, x.number]), x['name']]), axis=1)\n",
    "charter['article_id'] = charter.apply(lambda x: '-'.join([x.chapter, x.article]), axis=1)\n",
    "charter['id'] = charter.apply(lambda x: '-'.join([x.chapter, x.number]), axis=1)\n",
    "charter['URL'] = charter.URL.map(lambda x: parse.urlparse(x).path)"
   ]
  },
  {
   "cell_type": "code",
   "execution_count": 172,
   "metadata": {},
   "outputs": [],
   "source": [
    "charter[['id','article_id', 'number', 'title', 'TEXT', 'URL']].to_csv('../.data/city_charter_sections.csv', index=False)"
   ]
  },
  {
   "cell_type": "code",
   "execution_count": 169,
   "metadata": {},
   "outputs": [],
   "source": [
    "page = request.urlopen('https://www.portlandoregon.gov/citycode/28149').read()\n",
    "soup = BeautifulSoup(page)\n",
    "chapters = {\n",
    "    'title': [],\n",
    "    'name': [],\n",
    "    'url': [],\n",
    "    'note': []\n",
    "}\n",
    "for heading in soup.find_all('h2')[1:]: # skip first h2 as it is 'City of Portland'\n",
    "    chapters['title'].append(heading.get_text())\n",
    "    chapters['name'].append(heading.next_sibling.next_sibling.get_text())\n",
    "    chapters['url'].append('/citycode/' + heading.find('a').get('href'))\n",
    "    for item in heading.parent.find('li'):\n",
    "        if(item.get_text().startswith('-')):\n",
    "            href = item.get('href')\n",
    "            page = request.urlopen('https://www.portlandoregon.gov/citycode/' + href).read()\n",
    "            soup = BeautifulSoup(page)\n",
    "            chapters['note'].append(soup.find('article').find('section').get_text().strip())\n",
    "        else:\n",
    "            chapters['note'].append(np.nan)\n",
    "chapters = pd.DataFrame(chapters)\n",
    "chapters['number'] = chapters.title.map(lambda x: chapter_regex.match(x).group(1))\n",
    "chapters['title'] = chapters.apply(lambda x: ' '.join(['Chapter', str(x.number), str(x['name'])]), axis=1)\n",
    "chapters[['number', 'title', 'url', 'note']].to_csv('../.data/city_charter_chapters.csv', index=False)"
   ]
  },
  {
   "cell_type": "code",
   "execution_count": 170,
   "metadata": {},
   "outputs": [],
   "source": [
    "page = request.urlopen('https://www.portlandoregon.gov/citycode/28149').read()\n",
    "soup = BeautifulSoup(page)\n",
    "articles = {\n",
    "    'chapter': [],\n",
    "    'title': [],\n",
    "    'url': []\n",
    "}\n",
    "for heading in soup.find_all('h2')[1:]: # skip first h2 as it is 'City of Portland'\n",
    "    for item in heading.parent.find_all('li'):\n",
    "        if(item.get_text().startswith('Article')):\n",
    "            articles['chapter'].append(heading.get_text())\n",
    "            articles['title'].append(item.get_text())\n",
    "            articles['url'].append('/citycode/' + href)\n",
    "articles = pd.DataFrame(articles)\n",
    "articles['chapter'] = articles.chapter.map(lambda x: chapter_regex.match(x).group(1))\n",
    "articles['number'] = articles.title.map(lambda x: article_regex.match(x).group(1))\n",
    "articles['name'] = articles.title.map(lambda x: article_regex.match(x).group(2))\n",
    "articles['title'] = articles.apply(lambda x: ' '.join(['Article', str(x.number), str(x['name'])]), axis=1)\n",
    "articles['id'] = articles.apply(lambda x: '-'.join([x.chapter, x.number]), axis=1)\n",
    "articles[['id', 'chapter', 'title', 'number', 'url']].to_csv('../.data/city_charter_articles.csv', index=False)"
   ]
  },
  {
   "cell_type": "code",
   "execution_count": 164,
   "metadata": {},
   "outputs": [
    {
     "data": {
      "text/plain": [
       "'Article 1 Name'"
      ]
     },
     "execution_count": 164,
     "metadata": {},
     "output_type": "execute_result"
    }
   ],
   "source": [
    "' '.join(['Article', str(1), 'Name'])"
   ]
  },
  {
   "cell_type": "code",
   "execution_count": null,
   "metadata": {},
   "outputs": [],
   "source": []
  }
 ],
 "metadata": {
  "kernelspec": {
   "display_name": "Python 3",
   "language": "python",
   "name": "python3"
  },
  "language_info": {
   "codemirror_mode": {
    "name": "ipython",
    "version": 3
   },
   "file_extension": ".py",
   "mimetype": "text/x-python",
   "name": "python",
   "nbconvert_exporter": "python",
   "pygments_lexer": "ipython3",
   "version": "3.7.1"
  }
 },
 "nbformat": 4,
 "nbformat_minor": 2
}
