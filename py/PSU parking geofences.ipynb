{
 "cells": [
  {
   "cell_type": "code",
   "execution_count": 4,
   "metadata": {},
   "outputs": [
    {
     "data": {
      "text/plain": [
       "4"
      ]
     },
     "execution_count": 4,
     "metadata": {},
     "output_type": "execute_result"
    }
   ],
   "source": [
    "import overpy\n",
    "api = overpy.Overpass()\n",
    "result = api.query(\"\"\"(way[\"amenity\"=\"parking\"][\"parking\"=\"multi-storey\"][\"operator\"=\"Portland State University\"](45.378437479737,-122.7921295166,45.627484212338,-122.42992401123);way(354681069););out;\"\"\")\n",
    "len(result.ways)"
   ]
  },
  {
   "cell_type": "code",
   "execution_count": 6,
   "metadata": {},
   "outputs": [
    {
     "data": {
      "image/png": "[encoded data removed]",
      "text/plain": [
       "<Figure size 432x288 with 1 Axes>"
      ]
     },
     "metadata": {
      "needs_background": "light"
     },
     "output_type": "display_data"
    }
   ],
   "source": [
    "from shapely.geometry.polygon import Polygon\n",
    "def create_polygon(way):\n",
    "    coordinates=[]\n",
    "    for n in way.nodes:\n",
    "        node = next(x for x in result.nodes if x.id == n.id)\n",
    "        coordinates.append((node.lon, node.lat))\n",
    "    return Polygon(coordinates)\n",
    "\n",
    "import matplotlib.pyplot as plt\n",
    "fig, ax = plt.subplots(1)\n",
    "\n",
    "from descartes.patch import PolygonPatch\n",
    "\n",
    "for way in result.ways:\n",
    "    way.get_nodes(resolve_missing=True)\n",
    "    polygon = create_polygon(way)\n",
    "    patch = PolygonPatch(polygon, linewidth=1, edgecolor='b', facecolor='none')\n",
    "    ax.add_patch(patch)\n",
    "    \n",
    "plt.axis(\"auto\")\n",
    "plt.show()"
   ]
  },
  {
   "cell_type": "code",
   "execution_count": 7,
   "metadata": {},
   "outputs": [],
   "source": [
    "# This function converts a OpenStreetMap node into a GeoJSON Feature\n",
    "def nodeToCoordinates(node):\n",
    "    return [float(node.lon), float(node.lat)]\n",
    "\n",
    "coord_convert = lambda coords: [coords[0], coords[1]]\n",
    "\n",
    "def shapelyPolygonToFeature(polygon):\n",
    "    coords = []\n",
    "    for coord in polygon.exterior.coords:\n",
    "        coords.append(coord_convert(coord))\n",
    "        \n",
    "    return {\n",
    "        \"type\": \"Feature\",\n",
    "        \"geometry\": {\n",
    "            \"type\": \"Polygon\",\n",
    "            \"coordinates\": coords\n",
    "        },\n",
    "        \"properties\": {}\n",
    "    }\n",
    "\n",
    "# This function converts a collection of OpenStreetMap nodes into an array of\n",
    "# GeoJSON Features\n",
    "def nodesToFeatures(nodes):\n",
    "    \"\"\"\n",
    "    :param nodes\n",
    "    :type nodes from overpy.Result (result.nodes)\n",
    "    :return:\n",
    "    \"\"\"\n",
    "    features = []\n",
    "    for node in nodes:\n",
    "        features.append(nodeToFeature(node))\n",
    "    return features"
   ]
  },
  {
   "cell_type": "code",
   "execution_count": 9,
   "metadata": {},
   "outputs": [],
   "source": [
    "features =[]\n",
    "for way in result.ways:\n",
    "    polygon = create_polygon(way)\n",
    "    feature = shapelyPolygonToFeature(polygon)\n",
    "    feature['properties'] = way.tags\n",
    "    features.append(feature)\n",
    "    \n",
    "geojson = {\n",
    "    \"type\": \"FeatureCollection\",\n",
    "    \"features\": features\n",
    "}\n",
    "import json\n",
    "with open(\"../.data/psu_parking_structures.json\", 'w+', encoding='utf-8') as f:\n",
    "    f.write(json.dumps(geojson, ensure_ascii= False))\n",
    "    f.close()"
   ]
  },
  {
   "cell_type": "code",
   "execution_count": null,
   "metadata": {},
   "outputs": [],
   "source": []
  }
 ],
 "metadata": {
  "kernelspec": {
   "display_name": "Python 3",
   "language": "python",
   "name": "python3"
  },
  "language_info": {
   "codemirror_mode": {
    "name": "ipython",
    "version": 3
   },
   "file_extension": ".py",
   "mimetype": "text/x-python",
   "name": "python",
   "nbconvert_exporter": "python",
   "pygments_lexer": "ipython3",
   "version": "3.7.1"
  }
 },
 "nbformat": 4,
 "nbformat_minor": 2
}
