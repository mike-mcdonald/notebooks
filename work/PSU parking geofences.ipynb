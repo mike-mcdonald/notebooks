{
 "cells": [
  {
   "cell_type": "code",
   "execution_count": 1,
   "metadata": {},
   "outputs": [
    {
     "data": {
      "text/html": [
       "<div>\n",
       "<style scoped>\n",
       "    .dataframe tbody tr th:only-of-type {\n",
       "        vertical-align: middle;\n",
       "    }\n",
       "\n",
       "    .dataframe tbody tr th {\n",
       "        vertical-align: top;\n",
       "    }\n",
       "\n",
       "    .dataframe thead th {\n",
       "        text-align: right;\n",
       "    }\n",
       "</style>\n",
       "<table border=\"1\" class=\"dataframe\">\n",
       "  <thead>\n",
       "    <tr style=\"text-align: right;\">\n",
       "      <th></th>\n",
       "      <th>OBJECTID</th>\n",
       "      <th>PARKING_LO</th>\n",
       "      <th>ADDRESS</th>\n",
       "      <th>TOTAL_SPAC</th>\n",
       "      <th>RESERVED</th>\n",
       "      <th>HOURLY_SPA</th>\n",
       "      <th>PERMIT_SPA</th>\n",
       "      <th>ACCESSIBLE</th>\n",
       "      <th>LOADING_ZO</th>\n",
       "      <th>Motorcycle</th>\n",
       "      <th>GATE_CONTR</th>\n",
       "      <th>PERMIT_TYP</th>\n",
       "      <th>URL</th>\n",
       "      <th>Shape_Leng</th>\n",
       "      <th>Shape_Area</th>\n",
       "      <th>geometry</th>\n",
       "    </tr>\n",
       "  </thead>\n",
       "  <tbody>\n",
       "    <tr>\n",
       "      <th>0</th>\n",
       "      <td>1</td>\n",
       "      <td>Parking Structure Two</td>\n",
       "      <td>1704 SW Broadway</td>\n",
       "      <td>296.0</td>\n",
       "      <td>43.0</td>\n",
       "      <td>0.0</td>\n",
       "      <td>244.0</td>\n",
       "      <td>9.0</td>\n",
       "      <td>0.0</td>\n",
       "      <td>0.0</td>\n",
       "      <td>No</td>\n",
       "      <td>Permit</td>\n",
       "      <td>http://www.pdx.edu/transportation/home</td>\n",
       "      <td>642.507145</td>\n",
       "      <td>23393.829579</td>\n",
       "      <td>POLYGON ((7642542.791010499 680526.6040026248,...</td>\n",
       "    </tr>\n",
       "    <tr>\n",
       "      <th>1</th>\n",
       "      <td>4</td>\n",
       "      <td>Parking Structure One</td>\n",
       "      <td>1872 SW Broadway</td>\n",
       "      <td>935.0</td>\n",
       "      <td>35.0</td>\n",
       "      <td>93.0</td>\n",
       "      <td>758.0</td>\n",
       "      <td>24.0</td>\n",
       "      <td>2.0</td>\n",
       "      <td>23.0</td>\n",
       "      <td>No</td>\n",
       "      <td>Hourly/Daily Parking/Permit</td>\n",
       "      <td>http://www.pdx.edu/transportation/home</td>\n",
       "      <td>785.487637</td>\n",
       "      <td>38561.677043</td>\n",
       "      <td>POLYGON ((7642335.967191607 680049.7956036776,...</td>\n",
       "    </tr>\n",
       "    <tr>\n",
       "      <th>2</th>\n",
       "      <td>5</td>\n",
       "      <td>Parking Structure Three</td>\n",
       "      <td>1631 SW 12th Ave.</td>\n",
       "      <td>1138.0</td>\n",
       "      <td>0.0</td>\n",
       "      <td>259.0</td>\n",
       "      <td>849.0</td>\n",
       "      <td>15.0</td>\n",
       "      <td>3.0</td>\n",
       "      <td>12.0</td>\n",
       "      <td>No</td>\n",
       "      <td>Hourly/Daily Parking/Permit</td>\n",
       "      <td>http://www.pdx.edu/transportation/home</td>\n",
       "      <td>861.425593</td>\n",
       "      <td>46762.554641</td>\n",
       "      <td>POLYGON ((7641174.474081367 681200.91010499, 7...</td>\n",
       "    </tr>\n",
       "  </tbody>\n",
       "</table>\n",
       "</div>"
      ],
      "text/plain": [
       "   OBJECTID               PARKING_LO            ADDRESS  TOTAL_SPAC  RESERVED  \\\n",
       "0         1    Parking Structure Two   1704 SW Broadway       296.0      43.0   \n",
       "1         4    Parking Structure One   1872 SW Broadway       935.0      35.0   \n",
       "2         5  Parking Structure Three  1631 SW 12th Ave.      1138.0       0.0   \n",
       "\n",
       "   HOURLY_SPA  PERMIT_SPA  ACCESSIBLE  LOADING_ZO  Motorcycle GATE_CONTR  \\\n",
       "0         0.0       244.0         9.0         0.0         0.0         No   \n",
       "1        93.0       758.0        24.0         2.0        23.0         No   \n",
       "2       259.0       849.0        15.0         3.0        12.0         No   \n",
       "\n",
       "                    PERMIT_TYP                                     URL  \\\n",
       "0                       Permit  http://www.pdx.edu/transportation/home   \n",
       "1  Hourly/Daily Parking/Permit  http://www.pdx.edu/transportation/home   \n",
       "2  Hourly/Daily Parking/Permit  http://www.pdx.edu/transportation/home   \n",
       "\n",
       "   Shape_Leng    Shape_Area                                           geometry  \n",
       "0  642.507145  23393.829579  POLYGON ((7642542.791010499 680526.6040026248,...  \n",
       "1  785.487637  38561.677043  POLYGON ((7642335.967191607 680049.7956036776,...  \n",
       "2  861.425593  46762.554641  POLYGON ((7641174.474081367 681200.91010499, 7...  "
      ]
     },
     "execution_count": 1,
     "metadata": {},
     "output_type": "execute_result"
    }
   ],
   "source": [
    "import geopandas as gpd\n",
    "parking = gpd.read_file(\"data/Parking_Structures/PSU_Structures.shp\")\n",
    "parking.head()"
   ]
  },
  {
   "cell_type": "code",
   "execution_count": 9,
   "metadata": {},
   "outputs": [
    {
     "data": {
      "text/plain": [
       "{'init': 'epsg:4326', 'no_defs': True}"
      ]
     },
     "execution_count": 9,
     "metadata": {},
     "output_type": "execute_result"
    }
   ],
   "source": [
    "parking = parking.to_crs(epsg=4326)\n",
    "parking.geometry.crs"
   ]
  },
  {
   "cell_type": "code",
   "execution_count": 11,
   "metadata": {},
   "outputs": [
    {
     "data": {
      "text/plain": [
       "<matplotlib.axes._subplots.AxesSubplot at 0x7f1abc428860>"
      ]
     },
     "execution_count": 11,
     "metadata": {},
     "output_type": "execute_result"
    },
    {
     "data": {
      "image/png": "[encoded data removed]",
      "text/plain": [
       "<Figure size 432x288 with 1 Axes>"
      ]
     },
     "metadata": {
      "needs_background": "light"
     },
     "output_type": "display_data"
    }
   ],
   "source": [
    "parking.plot()"
   ]
  },
  {
   "cell_type": "code",
   "execution_count": 12,
   "metadata": {},
   "outputs": [
    {
     "data": {
      "text/plain": [
       "4"
      ]
     },
     "execution_count": 12,
     "metadata": {},
     "output_type": "execute_result"
    }
   ],
   "source": [
    "import overpy\n",
    "api = overpy.Overpass()\n",
    "result = api.query(\"\"\"(way[\"amenity\"=\"parking\"][\"parking\"=\"multi-storey\"][\"operator\"=\"Portland State University\"](45.378437479737,-122.7921295166,45.627484212338,-122.42992401123);way(354681069););out;\"\"\")\n",
    "len(result.ways)"
   ]
  },
  {
   "cell_type": "code",
   "execution_count": 13,
   "metadata": {},
   "outputs": [
    {
     "data": {
      "image/png": "[encoded data removed]",
      "text/plain": [
       "<Figure size 432x288 with 1 Axes>"
      ]
     },
     "metadata": {
      "needs_background": "light"
     },
     "output_type": "display_data"
    }
   ],
   "source": [
    "from shapely.geometry.polygon import Polygon\n",
    "def create_polygon(way):\n",
    "    coordinates=[]\n",
    "    for n in way.nodes:\n",
    "        node = next(x for x in result.nodes if x.id == n.id)\n",
    "        coordinates.append((node.lon, node.lat))\n",
    "    return Polygon(coordinates)\n",
    "\n",
    "import matplotlib.pyplot as plt\n",
    "fig, ax = plt.subplots(1)\n",
    "\n",
    "from descartes.patch import PolygonPatch\n",
    "\n",
    "for way in result.ways:\n",
    "    way.get_nodes(resolve_missing=True)\n",
    "    polygon = create_polygon(way)\n",
    "    patch = PolygonPatch(polygon, linewidth=1, edgecolor='b', facecolor='none')\n",
    "    ax.add_patch(patch)\n",
    "    \n",
    "plt.axis(\"auto\")\n",
    "plt.show()"
   ]
  },
  {
   "cell_type": "code",
   "execution_count": 14,
   "metadata": {},
   "outputs": [],
   "source": [
    "# This function converts a OpenStreetMap node into a GeoJSON Feature\n",
    "def nodeToCoordinates(node):\n",
    "    return [float(node.lon), float(node.lat)]\n",
    "\n",
    "coord_convert = lambda coords: [coords[0], coords[1]]\n",
    "\n",
    "def shapelyPolygonToFeature(polygon):\n",
    "    coords = []\n",
    "    for coord in polygon.exterior.coords:\n",
    "        coords.append(coord_convert(coord))\n",
    "        \n",
    "    return {\n",
    "        \"type\": \"Feature\",\n",
    "        \"geometry\": {\n",
    "            \"type\": \"Polygon\",\n",
    "            \"coordinates\": coords\n",
    "        },\n",
    "        \"properties\": {}\n",
    "    }\n",
    "\n",
    "# This function converts a collection of OpenStreetMap nodes into an array of\n",
    "# GeoJSON Features\n",
    "def nodesToFeatures(nodes):\n",
    "    \"\"\"\n",
    "    :param nodes\n",
    "    :type nodes from overpy.Result (result.nodes)\n",
    "    :return:\n",
    "    \"\"\"\n",
    "    features = []\n",
    "    for node in nodes:\n",
    "        features.append(nodeToFeature(node))\n",
    "    return features"
   ]
  },
  {
   "cell_type": "code",
   "execution_count": 15,
   "metadata": {},
   "outputs": [],
   "source": [
    "features =[]\n",
    "for way in result.ways:\n",
    "    polygon = create_polygon(way)\n",
    "    features.append(shapelyPolygonToFeature(polygon))\n",
    "    \n",
    "geojson = {\n",
    "    \"type\": \"FeatureCollection\",\n",
    "    \"features\": features\n",
    "}\n",
    "import json\n",
    "with open(\"data/psu_parking_structures.json\", 'w+', encoding='utf-8') as f:\n",
    "    f.write(json.dumps(geojson, ensure_ascii= False))\n",
    "    f.close()"
   ]
  },
  {
   "cell_type": "code",
   "execution_count": null,
   "metadata": {},
   "outputs": [],
   "source": []
  }
 ],
 "metadata": {
  "kernelspec": {
   "display_name": "Python 3",
   "language": "python",
   "name": "python3"
  },
  "language_info": {
   "codemirror_mode": {
    "name": "ipython",
    "version": 3
   },
   "file_extension": ".py",
   "mimetype": "text/x-python",
   "name": "python",
   "nbconvert_exporter": "python",
   "pygments_lexer": "ipython3",
   "version": "3.7.1"
  }
 },
 "nbformat": 4,
 "nbformat_minor": 2
}
