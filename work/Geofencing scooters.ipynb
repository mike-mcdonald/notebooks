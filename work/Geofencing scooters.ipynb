{
 "cells": [
  {
   "cell_type": "markdown",
   "metadata": {},
   "source": [
    "# Geofences for dockless shared vehicles\n",
    "This notebook documents work around creating a listing of polygons within which scooters are required to behave differently, namely disable parking or disuade riding."
   ]
  },
  {
   "cell_type": "markdown",
   "metadata": {},
   "source": [
    "## Parks\n",
    "The first area that we want to look at are parks.  We'll try to use the Overpass API to find all the parks in Portland.  We'll start with finding all the way objects that are tagged as a park."
   ]
  },
  {
   "cell_type": "code",
   "execution_count": 5,
   "metadata": {},
   "outputs": [
    {
     "data": {
      "text/plain": [
       "725"
      ]
     },
     "execution_count": 5,
     "metadata": {},
     "output_type": "execute_result"
    }
   ],
   "source": [
    "import overpy\n",
    "api = overpy.Overpass()\n",
    "result = api.query(\"\"\"way[\"leisure\"][\"leisure\"=\"park\"](45.378437479737,-122.7921295166,45.627484212338,-122.42992401123);out;\"\"\")\n",
    "len(result.ways)"
   ]
  },
  {
   "cell_type": "markdown",
   "metadata": {},
   "source": [
    "Ok, so we have 725 parks to get through.  This only returned the ways object that connects to nodes, which have actual coordinates that we can map and build from.  So let's look at getting the nodes out of a park.  We're going to start by retrieving a known park, Laurelhurst Park, from Overpass"
   ]
  },
  {
   "cell_type": "code",
   "execution_count": 6,
   "metadata": {},
   "outputs": [
    {
     "data": {
      "text/plain": [
       "51"
      ]
     },
     "execution_count": 6,
     "metadata": {},
     "output_type": "execute_result"
    }
   ],
   "source": [
    "result = api.query(\"\"\"way(39415016);out;\"\"\")\n",
    "for way in result.ways:\n",
    "    way.get_nodes(resolve_missing=True)\n",
    "len(result.nodes)"
   ]
  },
  {
   "cell_type": "markdown",
   "metadata": {},
   "source": [
    "So, we now have some nodes that contain the points that make up the Laurelhurst polygon.  So let's see how we can plot those to take a look."
   ]
  },
  {
   "cell_type": "code",
   "execution_count": 11,
   "metadata": {},
   "outputs": [
    {
     "data": {
      "image/png": "[encoded data removed]",
      "text/plain": [
       "<Figure size 432x288 with 1 Axes>"
      ]
     },
     "metadata": {
      "needs_background": "light"
     },
     "output_type": "display_data"
    }
   ],
   "source": [
    "coordinates = []\n",
    "for node in result.nodes:\n",
    "    # pull out the coordinates\n",
    "    coordinates.append((node.lon, node.lat))\n",
    "\n",
    "import numpy as np\n",
    "# Convert coordinates into numpy array\n",
    "X = np.array(coordinates)\n",
    "\n",
    "import matplotlib.pyplot as plt\n",
    "plt.plot(X[:, 0], X[:, 1], 'o')\n",
    "plt.title('Laurelhurst Park')\n",
    "plt.xlabel('Longitude')\n",
    "plt.ylabel('Latitude')\n",
    "plt.axis('equal')\n",
    "plt.show()"
   ]
  },
  {
   "cell_type": "code",
   "execution_count": 24,
   "metadata": {},
   "outputs": [
    {
     "data": {
      "image/png": "[encoded data removed]",
      "text/plain": [
       "<Figure size 432x288 with 1 Axes>"
      ]
     },
     "metadata": {
      "needs_background": "light"
     },
     "output_type": "display_data"
    }
   ],
   "source": [
    "from shapely.geometry.polygon import Polygon\n",
    "park = Polygon(coordinates)\n",
    "\n",
    "fig, ax = plt.subplots(1)\n",
    "\n",
    "from descartes.patch import PolygonPatch\n",
    "patch = PolygonPatch(park, linewidth=1, edgecolor='r', facecolor='none')\n",
    "ax.add_patch(patch)\n",
    "\n",
    "plt.axis(\"auto\")\n",
    "plt.show()"
   ]
  },
  {
   "cell_type": "markdown",
   "metadata": {},
   "source": [
    "Fail"
   ]
  },
  {
   "cell_type": "code",
   "execution_count": 26,
   "metadata": {},
   "outputs": [
    {
     "data": {
      "text/plain": [
       "[<overpy.Node id=1433692803 lat=45.5217137 lon=-122.6299571>,\n",
       " <overpy.Node id=1433692805 lat=45.5217525 lon=-122.6299762>,\n",
       " <overpy.Node id=1564425097 lat=45.5215644 lon=-122.6296392>,\n",
       " <overpy.Node id=1564425098 lat=45.5215716 lon=-122.6297275>,\n",
       " <overpy.Node id=1564425101 lat=45.5215723 lon=-122.6295762>,\n",
       " <overpy.Node id=1564425102 lat=45.5215861 lon=-122.6297792>,\n",
       " <overpy.Node id=1564425103 lat=45.5215925 lon=-122.6295055>,\n",
       " <overpy.Node id=1564425118 lat=45.5216030 lon=-122.6298222>,\n",
       " <overpy.Node id=1564425123 lat=45.5216267 lon=-122.6298668>,\n",
       " <overpy.Node id=1564425130 lat=45.5216527 lon=-122.6299022>,\n",
       " <overpy.Node id=1564425160 lat=45.5216821 lon=-122.6299323>,\n",
       " <overpy.Node id=1564425183 lat=45.5217939 lon=-122.6299881>,\n",
       " <overpy.Node id=5597525521 lat=45.5193701 lon=-122.6257868>,\n",
       " <overpy.Node id=5597525522 lat=45.5193920 lon=-122.6257946>,\n",
       " <overpy.Node id=5597525523 lat=45.5220940 lon=-122.6278420>,\n",
       " <overpy.Node id=5597525524 lat=45.5220976 lon=-122.6277165>,\n",
       " <overpy.Node id=5597525525 lat=45.5221162 lon=-122.6274994>,\n",
       " <overpy.Node id=5597525526 lat=45.5221498 lon=-122.6269961>,\n",
       " <overpy.Node id=5597525527 lat=45.5221693 lon=-122.6268076>,\n",
       " <overpy.Node id=5597525528 lat=45.5221859 lon=-122.6266761>,\n",
       " <overpy.Node id=5597525529 lat=45.5222053 lon=-122.6265244>,\n",
       " <overpy.Node id=5597525530 lat=45.5222437 lon=-122.6262815>,\n",
       " <overpy.Node id=5597525531 lat=45.5222748 lon=-122.6260758>,\n",
       " <overpy.Node id=5597525532 lat=45.5223214 lon=-122.6257997>,\n",
       " <overpy.Node id=5597525533 lat=45.5223856 lon=-122.6254515>,\n",
       " <overpy.Node id=5597525534 lat=45.5224729 lon=-122.6250319>,\n",
       " <overpy.Node id=5597525535 lat=45.5225961 lon=-122.6244779>,\n",
       " <overpy.Node id=5597525536 lat=45.5226293 lon=-122.6243063>,\n",
       " <overpy.Node id=5597525537 lat=45.5226880 lon=-122.6239303>,\n",
       " <overpy.Node id=5597525538 lat=45.5227117 lon=-122.6237456>,\n",
       " <overpy.Node id=5597525539 lat=45.5227342 lon=-122.6235664>,\n",
       " <overpy.Node id=5597525540 lat=45.5227460 lon=-122.6233873>,\n",
       " <overpy.Node id=5597525541 lat=45.5227503 lon=-122.6232951>,\n",
       " <overpy.Node id=5597525542 lat=45.5227515 lon=-122.6232022>,\n",
       " <overpy.Node id=5597525543 lat=45.5227116 lon=-122.6231419>,\n",
       " <overpy.Node id=5597525544 lat=45.5226692 lon=-122.6231258>,\n",
       " <overpy.Node id=5597525545 lat=45.5193962 lon=-122.6231622>,\n",
       " <overpy.Node id=5597525546 lat=45.5193518 lon=-122.6231850>,\n",
       " <overpy.Node id=5597525547 lat=45.5193380 lon=-122.6232415>,\n",
       " <overpy.Node id=5597525548 lat=45.5193574 lon=-122.6257474>,\n",
       " <overpy.Node id=5597525549 lat=45.5203202 lon=-122.6257942>,\n",
       " <overpy.Node id=5597525550 lat=45.5203339 lon=-122.6306533>,\n",
       " <overpy.Node id=5597525551 lat=45.5203468 lon=-122.6307146>,\n",
       " <overpy.Node id=5597525552 lat=45.5203748 lon=-122.6307295>,\n",
       " <overpy.Node id=5597525553 lat=45.5204010 lon=-122.6307455>,\n",
       " <overpy.Node id=5597525554 lat=45.5204351 lon=-122.6307553>,\n",
       " <overpy.Node id=5597525555 lat=45.5204910 lon=-122.6307724>,\n",
       " <overpy.Node id=5597525556 lat=45.5205410 lon=-122.6307972>,\n",
       " <overpy.Node id=5597525557 lat=45.5206342 lon=-122.6308373>,\n",
       " <overpy.Node id=5597525558 lat=45.5207052 lon=-122.6308384>,\n",
       " <overpy.Node id=5597525559 lat=45.5218143 lon=-122.6300594>]"
      ]
     },
     "execution_count": 26,
     "metadata": {},
     "output_type": "execute_result"
    }
   ],
   "source": [
    "result.nodes"
   ]
  },
  {
   "cell_type": "markdown",
   "metadata": {},
   "source": [
    "Looks like we got the nodes in order of ID, not in the same order that the way describes them.  So, we need to order them as we use them to make a polygon."
   ]
  },
  {
   "cell_type": "code",
   "execution_count": 30,
   "metadata": {},
   "outputs": [
    {
     "data": {
      "image/png": "[encoded data removed]",
      "text/plain": [
       "<Figure size 432x288 with 1 Axes>"
      ]
     },
     "metadata": {
      "needs_background": "light"
     },
     "output_type": "display_data"
    }
   ],
   "source": [
    "way = result.ways[0]\n",
    "coordinates = []\n",
    "for n in way.nodes:\n",
    "    node = next(x for x in result.nodes if x.id == n.id)\n",
    "    coordinates.append((node.lon, node.lat))\n",
    "    \n",
    "park = Polygon(coordinates)\n",
    "\n",
    "fig, ax = plt.subplots(1)\n",
    "\n",
    "patch = PolygonPatch(park, linewidth=1, edgecolor='r', facecolor='none')\n",
    "ax.add_patch(patch)\n",
    "\n",
    "plt.axis(\"auto\")\n",
    "plt.show()"
   ]
  },
  {
   "cell_type": "markdown",
   "metadata": {},
   "source": [
    "Sweet"
   ]
  },
  {
   "cell_type": "code",
   "execution_count": null,
   "metadata": {},
   "outputs": [],
   "source": []
  }
 ],
 "metadata": {
  "kernelspec": {
   "display_name": "Python 3",
   "language": "python",
   "name": "python3"
  },
  "language_info": {
   "codemirror_mode": {
    "name": "ipython",
    "version": 3
   },
   "file_extension": ".py",
   "mimetype": "text/x-python",
   "name": "python",
   "nbconvert_exporter": "python",
   "pygments_lexer": "ipython3",
   "version": "3.7.1"
  }
 },
 "nbformat": 4,
 "nbformat_minor": 2
}
